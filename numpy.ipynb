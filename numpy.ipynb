{
  "nbformat": 4,
  "nbformat_minor": 0,
  "metadata": {
    "colab": {
      "provenance": [],
      "authorship_tag": "ABX9TyORzOW85IuuH5d3dMEllHGg",
      "include_colab_link": true
    },
    "kernelspec": {
      "name": "python3",
      "display_name": "Python 3"
    },
    "language_info": {
      "name": "python"
    }
  },
  "cells": [
    {
      "cell_type": "markdown",
      "metadata": {
        "id": "view-in-github",
        "colab_type": "text"
      },
      "source": [
        "<a href=\"https://colab.research.google.com/github/AkhileshGudimella/ML/blob/main/numpy.ipynb\" target=\"_parent\"><img src=\"https://colab.research.google.com/assets/colab-badge.svg\" alt=\"Open In Colab\"/></a>"
      ]
    },
    {
      "cell_type": "code",
      "execution_count": 50,
      "metadata": {
        "colab": {
          "base_uri": "https://localhost:8080/"
        },
        "id": "2AbgtboaEeR-",
        "outputId": "fdda2cc7-c63c-4a7e-84c3-f68b45bba95c"
      },
      "outputs": [
        {
          "output_type": "stream",
          "name": "stdout",
          "text": [
            "[1 2 3 4 5]\n",
            "5\n",
            "1\n",
            "(5,)\n"
          ]
        }
      ],
      "source": [
        "import numpy as np\n",
        "one_dimentional_array = np.array([1, 2, 3, 4, 5])\n",
        "print(one_dimentional_array)\n",
        "print(one_dimentional_array.size)\n",
        "print(one_dimentional_array.ndim)\n",
        "print(one_dimentional_array.shape)"
      ]
    },
    {
      "cell_type": "code",
      "source": [
        "import numpy as np\n",
        "two_dimentional_array = np.array([[1, 2, 3],[4, 5, 6]])\n",
        "print(two_dimentional_array)\n",
        "print(two_dimentional_array.size)\n",
        "print(two_dimentional_array.ndim)\n",
        "print(two_dimentional_array.shape)"
      ],
      "metadata": {
        "colab": {
          "base_uri": "https://localhost:8080/"
        },
        "id": "7aZwzo3WE_il",
        "outputId": "ef5873a1-6124-4626-9cae-f205c427d7f2"
      },
      "execution_count": 51,
      "outputs": [
        {
          "output_type": "stream",
          "name": "stdout",
          "text": [
            "[[1 2 3]\n",
            " [4 5 6]]\n",
            "6\n",
            "2\n",
            "(2, 3)\n"
          ]
        }
      ]
    },
    {
      "cell_type": "code",
      "source": [
        "import numpy as np\n",
        "three_dimentional_array = np.array([[[1, 2, 3],[4, 5, 6]],[[7, 8, 9],[10, 11, 12]]])\n",
        "print(three_dimentional_array)\n",
        "print(three_dimentional_array.size)\n",
        "print(three_dimentional_array.ndim)\n",
        "print(three_dimentional_array.shape)"
      ],
      "metadata": {
        "colab": {
          "base_uri": "https://localhost:8080/"
        },
        "id": "yL_6cHdgFiGd",
        "outputId": "50313cd5-5ad6-427b-f111-d92a80d9930a"
      },
      "execution_count": 52,
      "outputs": [
        {
          "output_type": "stream",
          "name": "stdout",
          "text": [
            "[[[ 1  2  3]\n",
            "  [ 4  5  6]]\n",
            "\n",
            " [[ 7  8  9]\n",
            "  [10 11 12]]]\n",
            "12\n",
            "3\n",
            "(2, 2, 3)\n"
          ]
        }
      ]
    },
    {
      "cell_type": "code",
      "source": [
        "import numpy as np\n",
        "array_mean=np.mean([1, 2, 3, 4, 5])\n",
        "print(array_mean)"
      ],
      "metadata": {
        "colab": {
          "base_uri": "https://localhost:8080/"
        },
        "id": "8DPb9GZJGZwG",
        "outputId": "b92eaee6-0391-4e40-f810-2d1a8da2e5e4"
      },
      "execution_count": 13,
      "outputs": [
        {
          "output_type": "stream",
          "name": "stdout",
          "text": [
            "3.0\n"
          ]
        }
      ]
    },
    {
      "cell_type": "code",
      "source": [
        "import numpy as np\n",
        "array_median=np.median([1, 2, 3, 4, 5])\n",
        "print(array_median)"
      ],
      "metadata": {
        "colab": {
          "base_uri": "https://localhost:8080/"
        },
        "id": "gjP9L94yGo79",
        "outputId": "8a19b48d-b989-4e16-b4e1-e510dfcf78ba"
      },
      "execution_count": 12,
      "outputs": [
        {
          "output_type": "stream",
          "name": "stdout",
          "text": [
            "3.0\n"
          ]
        }
      ]
    },
    {
      "cell_type": "code",
      "source": [
        "import numpy as np\n",
        "\n",
        "n = int(input(\"Enter the number of elements in the array: \"))\n",
        "array = []\n",
        "print(\"Enter the elements of the array, one by one:\")\n",
        "for i in range(n):\n",
        "    element = float(input(f\"Element {i+1}: \"))\n",
        "    array.append(element)\n",
        "\n",
        "array_mean = np.mean(array)\n",
        "print(f\"The mean of the array is: {array_mean:.2f}\")"
      ],
      "metadata": {
        "colab": {
          "base_uri": "https://localhost:8080/"
        },
        "id": "N-jWgke-HYQd",
        "outputId": "ccfce616-3b88-457f-fd69-e942958db8d2"
      },
      "execution_count": 26,
      "outputs": [
        {
          "output_type": "stream",
          "name": "stdout",
          "text": [
            "Enter the number of elements in the array: 2\n",
            "Enter the elements of the array, one by one:\n",
            "Element 1: 1\n",
            "Element 2: 2\n",
            "The mean of the array is: 1.50\n"
          ]
        }
      ]
    }
  ]
}